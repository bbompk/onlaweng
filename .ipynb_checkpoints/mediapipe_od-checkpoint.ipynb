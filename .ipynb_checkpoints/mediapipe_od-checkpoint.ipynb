{
 "cells": [
  {
   "cell_type": "code",
   "execution_count": 1,
   "metadata": {},
   "outputs": [
    {
     "name": "stdout",
     "output_type": "stream",
     "text": [
      "Requirement already satisfied: mediapipe==0.10.0 in c:\\users\\praspit\\anaconda3\\lib\\site-packages (0.10.0)\n",
      "Requirement already satisfied: flatbuffers>=2.0 in c:\\users\\praspit\\anaconda3\\lib\\site-packages (from mediapipe==0.10.0) (23.5.9)\n",
      "Requirement already satisfied: attrs>=19.1.0 in c:\\users\\praspit\\anaconda3\\lib\\site-packages (from mediapipe==0.10.0) (21.4.0)\n",
      "Requirement already satisfied: numpy in c:\\users\\praspit\\anaconda3\\lib\\site-packages (from mediapipe==0.10.0) (1.21.5)\n",
      "Requirement already satisfied: opencv-contrib-python in c:\\users\\praspit\\anaconda3\\lib\\site-packages (from mediapipe==0.10.0) (4.7.0.72)\n",
      "Requirement already satisfied: protobuf<4,>=3.11 in c:\\users\\praspit\\anaconda3\\lib\\site-packages (from mediapipe==0.10.0) (3.20.3)\n",
      "Requirement already satisfied: matplotlib in c:\\users\\praspit\\anaconda3\\lib\\site-packages (from mediapipe==0.10.0) (3.5.2)\n",
      "Requirement already satisfied: sounddevice>=0.4.4 in c:\\users\\praspit\\anaconda3\\lib\\site-packages (from mediapipe==0.10.0) (0.4.6)\n",
      "Requirement already satisfied: absl-py in c:\\users\\praspit\\anaconda3\\lib\\site-packages (from mediapipe==0.10.0) (1.4.0)\n",
      "Requirement already satisfied: CFFI>=1.0 in c:\\users\\praspit\\anaconda3\\lib\\site-packages (from sounddevice>=0.4.4->mediapipe==0.10.0) (1.15.1)\n",
      "Requirement already satisfied: packaging>=20.0 in c:\\users\\praspit\\anaconda3\\lib\\site-packages (from matplotlib->mediapipe==0.10.0) (21.3)\n",
      "Requirement already satisfied: pillow>=6.2.0 in c:\\users\\praspit\\anaconda3\\lib\\site-packages (from matplotlib->mediapipe==0.10.0) (9.2.0)\n",
      "Requirement already satisfied: fonttools>=4.22.0 in c:\\users\\praspit\\anaconda3\\lib\\site-packages (from matplotlib->mediapipe==0.10.0) (4.25.0)\n",
      "Requirement already satisfied: python-dateutil>=2.7 in c:\\users\\praspit\\anaconda3\\lib\\site-packages (from matplotlib->mediapipe==0.10.0) (2.8.2)\n",
      "Requirement already satisfied: pyparsing>=2.2.1 in c:\\users\\praspit\\anaconda3\\lib\\site-packages (from matplotlib->mediapipe==0.10.0) (3.0.9)\n",
      "Requirement already satisfied: cycler>=0.10 in c:\\users\\praspit\\anaconda3\\lib\\site-packages (from matplotlib->mediapipe==0.10.0) (0.11.0)\n",
      "Requirement already satisfied: kiwisolver>=1.0.1 in c:\\users\\praspit\\anaconda3\\lib\\site-packages (from matplotlib->mediapipe==0.10.0) (1.4.2)\n",
      "Requirement already satisfied: pycparser in c:\\users\\praspit\\anaconda3\\lib\\site-packages (from CFFI>=1.0->sounddevice>=0.4.4->mediapipe==0.10.0) (2.21)\n",
      "Requirement already satisfied: six>=1.5 in c:\\users\\praspit\\anaconda3\\lib\\site-packages (from python-dateutil>=2.7->matplotlib->mediapipe==0.10.0) (1.16.0)\n",
      "Requirement already satisfied: protobuf in c:\\users\\praspit\\anaconda3\\lib\\site-packages (3.20.3)\n",
      "Collecting protobuf\n",
      "  Downloading protobuf-4.23.0-cp39-cp39-win_amd64.whl (422 kB)\n",
      "     -------------------------------------- 422.5/422.5 kB 3.3 MB/s eta 0:00:00\n",
      "Installing collected packages: protobuf\n",
      "  Attempting uninstall: protobuf\n",
      "    Found existing installation: protobuf 3.20.3\n",
      "    Uninstalling protobuf-3.20.3:\n",
      "      Successfully uninstalled protobuf-3.20.3\n",
      "Successfully installed protobuf-4.23.0\n"
     ]
    },
    {
     "name": "stderr",
     "output_type": "stream",
     "text": [
      "ERROR: pip's dependency resolver does not currently take into account all the packages that are installed. This behaviour is the source of the following dependency conflicts.\n",
      "mediapipe 0.10.0 requires protobuf<4,>=3.11, but you have protobuf 4.23.0 which is incompatible.\n"
     ]
    }
   ],
   "source": [
    "!pip install mediapipe==0.10.0\n",
    "!pip install --upgrade protobuf"
   ]
  },
  {
   "cell_type": "code",
   "execution_count": 2,
   "metadata": {},
   "outputs": [],
   "source": [
    "# Import neccessary libraries\n",
    "import mediapipe as mp\n",
    "from mediapipe.tasks import python\n",
    "from mediapipe.tasks.python import vision\n",
    "import cv2\n",
    "import os\n",
    "import traceback"
   ]
  },
  {
   "cell_type": "code",
   "execution_count": 3,
   "metadata": {},
   "outputs": [],
   "source": [
    "# STEP 2: Create an ObjectDetector object.\n",
    "base_options = python.BaseOptions(model_asset_path='models/ssd_mobilenet_v2.tflite')\n",
    "options = vision.ObjectDetectorOptions(base_options=base_options,\n",
    "                                       score_threshold=0.5,\n",
    "                                       max_results=3,\n",
    "                                       running_mode=mp.tasks.vision.RunningMode.IMAGE)\n",
    "detector = vision.ObjectDetector.create_from_options(options)"
   ]
  },
  {
   "cell_type": "code",
   "execution_count": 4,
   "metadata": {},
   "outputs": [],
   "source": [
    "from onlaweng_utils import draw_bounding_boxes "
   ]
  },
  {
   "cell_type": "code",
   "execution_count": null,
   "metadata": {},
   "outputs": [
    {
     "name": "stderr",
     "output_type": "stream",
     "text": [
      "C:\\Users\\praspit\\anaconda3\\lib\\site-packages\\google\\protobuf\\symbol_database.py:78: UserWarning: SymbolDatabase.GetPrototype() is deprecated. Please use message_factory.GetMessageClass() instead. SymbolDatabase.GetPrototype() will be removed soon.\n",
      "  warnings.warn('SymbolDatabase.GetPrototype() is deprecated. Please '\n"
     ]
    }
   ],
   "source": [
    "cap = cv2.VideoCapture(0)\n",
    "while cap.isOpened():\n",
    "    success, image = cap.read()\n",
    "    if not success:\n",
    "        print(\"Ignoring empty camera frame.\")\n",
    "        continue\n",
    "\n",
    "    # Flip the image horizontally for a later selfie-view display, and convert\n",
    "    # the BGR image to RGB.\n",
    "    image = cv2.cvtColor(cv2.flip(image, 1), cv2.COLOR_BGR2RGB)\n",
    "\n",
    "    # To improve performance, optionally mark the image as not writeable to\n",
    "    # pass by reference.\n",
    "    image.flags.writeable = False\n",
    "    mp_img = mp.Image(image_format=mp.ImageFormat.SRGB, data=image)\n",
    "    results = detector.detect(mp_img)\n",
    "\n",
    "    # # Draw the hand annotations on the image.\n",
    "    image.flags.writeable = True\n",
    "    image = cv2.cvtColor(image, cv2.COLOR_RGB2BGR)\n",
    "\n",
    "    #print(results)\n",
    "    try :\n",
    "        if results :\n",
    "            for idx, detection in enumerate(results.detections) :\n",
    "                draw_bounding_boxes(image, detection, 2023+idx)\n",
    "\n",
    "    except Exception as e:\n",
    "        print(traceback.format_exc())\n",
    "        break\n",
    "\n",
    "\n",
    "    cv2.imshow('MediaPipe Object Detection', image)\n",
    "    if cv2.waitKey(5) == ord('q'):\n",
    "        break\n",
    "\n",
    "cap.release()\n",
    "cv2.destroyAllWindows()"
   ]
  },
  {
   "cell_type": "code",
   "execution_count": null,
   "metadata": {},
   "outputs": [],
   "source": []
  }
 ],
 "metadata": {
  "kernelspec": {
   "display_name": "Python 3 (ipykernel)",
   "language": "python",
   "name": "python3"
  },
  "language_info": {
   "codemirror_mode": {
    "name": "ipython",
    "version": 3
   },
   "file_extension": ".py",
   "mimetype": "text/x-python",
   "name": "python",
   "nbconvert_exporter": "python",
   "pygments_lexer": "ipython3",
   "version": "3.9.13"
  }
 },
 "nbformat": 4,
 "nbformat_minor": 2
}
