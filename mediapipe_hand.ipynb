{
 "cells": [
  {
   "cell_type": "code",
   "execution_count": null,
   "id": "fe5d368b",
   "metadata": {},
   "outputs": [],
   "source": [
    "!pip install mediapipe "
   ]
  },
  {
   "cell_type": "code",
   "execution_count": 1,
   "id": "52b236d0",
   "metadata": {},
   "outputs": [],
   "source": [
    "# Import neccessary libraries\n",
    "import mediapipe as mp\n",
    "from mediapipe.tasks import python\n",
    "from mediapipe.tasks.python import vision\n",
    "import cv2\n",
    "import os\n",
    "import traceback"
   ]
  },
  {
   "cell_type": "code",
   "execution_count": 2,
   "id": "29fc1826",
   "metadata": {},
   "outputs": [],
   "source": [
    "# create an HandLandmarker object.\n",
    "BaseOptions = mp.tasks.BaseOptions\n",
    "HandLandmarker = mp.tasks.vision.HandLandmarker\n",
    "HandLandmarkerOptions = mp.tasks.vision.HandLandmarkerOptions\n",
    "VisionRunningMode = mp.tasks.vision.RunningMode\n",
    "\n",
    "# Create a hand landmarker instance with the image mode:\n",
    "options = HandLandmarkerOptions(\n",
    "    base_options=BaseOptions(model_asset_path='hand_landmarker.task'),\n",
    "    running_mode=VisionRunningMode.IMAGE,\n",
    "    num_hands=1,\n",
    ")\n"
   ]
  },
  {
   "cell_type": "code",
   "execution_count": 3,
   "id": "8a986974",
   "metadata": {},
   "outputs": [],
   "source": [
    "# Initialize the hand landmarker instancea and run inference:\n",
    "landmarker = HandLandmarker.create_from_options(options) "
   ]
  },
  {
   "cell_type": "code",
   "execution_count": 5,
   "id": "c40e0793",
   "metadata": {},
   "outputs": [],
   "source": [
    "last_normalized_landmarks = []\n",
    "last_world_landmarks = []"
   ]
  },
  {
   "cell_type": "code",
   "execution_count": 6,
   "id": "856b9045",
   "metadata": {},
   "outputs": [],
   "source": [
    "from onlaweng_utils import draw_landmarks as onlaweng_draw_hands"
   ]
  },
  {
   "cell_type": "code",
   "execution_count": 7,
   "id": "5ae0ed18",
   "metadata": {},
   "outputs": [],
   "source": [
    "cap = cv2.VideoCapture(0)\n",
    "while cap.isOpened():\n",
    "    success, image = cap.read()\n",
    "    if not success:\n",
    "        print(\"Ignoring empty camera frame.\")\n",
    "        continue\n",
    "\n",
    "    # Flip the image horizontally for a later selfie-view display, and convert\n",
    "    # the BGR image to RGB.\n",
    "    image = cv2.cvtColor(cv2.flip(image, 1), cv2.COLOR_BGR2RGB)\n",
    "\n",
    "    # To improve performance, optionally mark the image as not writeable to\n",
    "    # pass by reference.\n",
    "    image.flags.writeable = False\n",
    "    mp_img = mp.Image(image_format=mp.ImageFormat.SRGB, data=image)\n",
    "    results = landmarker.detect(mp_img)\n",
    "\n",
    "    # # Draw the hand annotations on the image.\n",
    "    image.flags.writeable = True\n",
    "    image = cv2.cvtColor(image, cv2.COLOR_RGB2BGR)\n",
    "\n",
    "    #print(results)\n",
    "    try :\n",
    "        # capture if the most present hand is right hand\n",
    "        if results.hand_landmarks and results.handedness[0][0].category_name == 'Right':\n",
    "            last_normalized_landmarks = results.hand_landmarks[0]\n",
    "            last_world_landmarks = results.hand_world_landmarks[0]\n",
    "\n",
    "            # # mimic the datatype\n",
    "            # landmark_proto_mimic = LandmarkListPbMessageMimic(results.hand_landmarks[0])\n",
    "\n",
    "            # # draw the landmarks\n",
    "            # mp.solutions.drawing_utils.draw_landmarks(\n",
    "            #     image, landmark_proto_mimic, mp.solutions.hands.HAND_CONNECTIONS)\n",
    "\n",
    "            onlaweng_draw_hands(image, results.hand_landmarks[0], mp.solutions.hands.HAND_CONNECTIONS)\n",
    "\n",
    "    except Exception as e:\n",
    "        print(traceback.format_exc())\n",
    "        break\n",
    "\n",
    "\n",
    "    cv2.imshow('MediaPipe Hands', image)\n",
    "    if cv2.waitKey(5) == ord('q'):\n",
    "        break\n",
    "\n",
    "cap.release()\n",
    "cv2.destroyAllWindows()"
   ]
  },
  {
   "attachments": {},
   "cell_type": "markdown",
   "id": "f5da5365",
   "metadata": {},
   "source": [
    "### Landmark data example"
   ]
  },
  {
   "cell_type": "code",
   "execution_count": 8,
   "id": "33451497",
   "metadata": {},
   "outputs": [
    {
     "name": "stdout",
     "output_type": "stream",
     "text": [
      "[NormalizedLandmark(x=0.554530143737793, y=0.9059538841247559, z=-2.6785420459418674e-07, visibility=0.0, presence=0.0), NormalizedLandmark(x=0.5070837736129761, y=0.9382668137550354, z=-0.008510502986609936, visibility=0.0, presence=0.0), NormalizedLandmark(x=0.45689156651496887, y=0.946813702583313, z=-0.013488177210092545, visibility=0.0, presence=0.0), NormalizedLandmark(x=0.4215407967567444, y=0.9468340873718262, z=-0.018704243004322052, visibility=0.0, presence=0.0), NormalizedLandmark(x=0.3908187448978424, y=0.949985146522522, z=-0.024190956726670265, visibility=0.0, presence=0.0), NormalizedLandmark(x=0.45197880268096924, y=0.8854348063468933, z=-0.010018078610301018, visibility=0.0, presence=0.0), NormalizedLandmark(x=0.4214135408401489, y=0.9025270342826843, z=-0.02225174382328987, visibility=0.0, presence=0.0), NormalizedLandmark(x=0.407351553440094, y=0.927639365196228, z=-0.033728472888469696, visibility=0.0, presence=0.0), NormalizedLandmark(x=0.3985377252101898, y=0.9462506175041199, z=-0.04222854599356651, visibility=0.0, presence=0.0), NormalizedLandmark(x=0.47649911046028137, y=0.875135064125061, z=-0.014337771572172642, visibility=0.0, presence=0.0), NormalizedLandmark(x=0.4549770951271057, y=0.9036639928817749, z=-0.023551082238554955, visibility=0.0, presence=0.0), NormalizedLandmark(x=0.44447457790374756, y=0.928716778755188, z=-0.0322568342089653, visibility=0.0, presence=0.0), NormalizedLandmark(x=0.43581926822662354, y=0.946654200553894, z=-0.04052674025297165, visibility=0.0, presence=0.0), NormalizedLandmark(x=0.5059654116630554, y=0.876003623008728, z=-0.019969573244452477, visibility=0.0, presence=0.0), NormalizedLandmark(x=0.4929009974002838, y=0.9108549952507019, z=-0.030192892998456955, visibility=0.0, presence=0.0), NormalizedLandmark(x=0.48469847440719604, y=0.9340599775314331, z=-0.03447330743074417, visibility=0.0, presence=0.0), NormalizedLandmark(x=0.47686222195625305, y=0.9522889852523804, z=-0.03883105143904686, visibility=0.0, presence=0.0), NormalizedLandmark(x=0.5358051657676697, y=0.8858116269111633, z=-0.026368286460638046, visibility=0.0, presence=0.0), NormalizedLandmark(x=0.5283606648445129, y=0.9156079292297363, z=-0.03782334551215172, visibility=0.0, presence=0.0), NormalizedLandmark(x=0.5213621258735657, y=0.9319478869438171, z=-0.0409981906414032, visibility=0.0, presence=0.0), NormalizedLandmark(x=0.514330267906189, y=0.9437540173530579, z=-0.042990464717149734, visibility=0.0, presence=0.0)]\n"
     ]
    }
   ],
   "source": [
    "# The normalized landmarks are the landmarks in the image coordinate system,\n",
    "print(last_normalized_landmarks)"
   ]
  },
  {
   "cell_type": "code",
   "execution_count": 9,
   "id": "5077aef7",
   "metadata": {},
   "outputs": [
    {
     "name": "stdout",
     "output_type": "stream",
     "text": [
      "[Landmark(x=0.05308077484369278, y=0.010468782857060432, z=0.07375016808509827, visibility=0.0, presence=0.0), Landmark(x=0.01809820719063282, y=0.020346827805042267, z=0.060657840222120285, visibility=0.0, presence=0.0), Landmark(x=-0.011453494429588318, y=0.026532305404543877, z=0.04538461193442345, visibility=0.0, presence=0.0), Landmark(x=-0.03679594397544861, y=0.035973887890577316, z=0.026842748746275902, visibility=0.0, presence=0.0), Landmark(x=-0.0656648725271225, y=0.033439867198467255, z=0.006963925436139107, visibility=0.0, presence=0.0), Landmark(x=-0.01830781064927578, y=0.005044126883149147, z=0.007438599597662687, visibility=0.0, presence=0.0), Landmark(x=-0.03490138798952103, y=0.01360880397260189, z=-0.007963980548083782, visibility=0.0, presence=0.0), Landmark(x=-0.045324523001909256, y=0.02196165919303894, z=-0.018077418208122253, visibility=0.0, presence=0.0), Landmark(x=-0.0544745996594429, y=0.038041334599256516, z=-0.038118161261081696, visibility=0.0, presence=0.0), Landmark(x=-0.0034318510442972183, y=-0.0011633395915850997, z=0.002452666638419032, visibility=0.0, presence=0.0), Landmark(x=-0.020354554057121277, y=0.009439564310014248, z=-0.01780659146606922, visibility=0.0, presence=0.0), Landmark(x=-0.02883269265294075, y=0.028187375515699387, z=-0.02854723483324051, visibility=0.0, presence=0.0), Landmark(x=-0.03955506160855293, y=0.03801026940345764, z=-0.03805586323142052, visibility=0.0, presence=0.0), Landmark(x=0.010632002726197243, y=-0.004495103843510151, z=-0.005542052909731865, visibility=0.0, presence=0.0), Landmark(x=0.0024876310490071774, y=0.012644045986235142, z=-0.019017694517970085, visibility=0.0, presence=0.0), Landmark(x=-0.001521785743534565, y=0.028224436566233635, z=-0.02621617540717125, visibility=0.0, presence=0.0), Landmark(x=-0.010488709434866905, y=0.03810929134488106, z=-0.030088510364294052, visibility=0.0, presence=0.0), Landmark(x=0.03212231025099754, y=0.004828696139156818, z=-0.004838576074689627, visibility=0.0, presence=0.0), Landmark(x=0.025496162474155426, y=0.014965342357754707, z=-0.015021732077002525, visibility=0.0, presence=0.0), Landmark(x=0.021109413355588913, y=0.025252006947994232, z=-0.02009221725165844, visibility=0.0, presence=0.0), Landmark(x=0.013148060999810696, y=0.033420659601688385, z=-0.024100104346871376, visibility=0.0, presence=0.0)]\n"
     ]
    }
   ],
   "source": [
    "# The world landmarks are the landmarks in the world coordinate system,\n",
    "print(last_world_landmarks)"
   ]
  },
  {
   "cell_type": "code",
   "execution_count": null,
   "id": "64ad581e",
   "metadata": {},
   "outputs": [],
   "source": []
  }
 ],
 "metadata": {
  "kernelspec": {
   "display_name": "Python 3 (ipykernel)",
   "language": "python",
   "name": "python3"
  },
  "language_info": {
   "codemirror_mode": {
    "name": "ipython",
    "version": 3
   },
   "file_extension": ".py",
   "mimetype": "text/x-python",
   "name": "python",
   "nbconvert_exporter": "python",
   "pygments_lexer": "ipython3",
   "version": "3.9.10"
  }
 },
 "nbformat": 4,
 "nbformat_minor": 5
}
